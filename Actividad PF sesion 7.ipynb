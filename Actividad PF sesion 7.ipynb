{
 "cells": [
  {
   "cell_type": "markdown",
   "id": "ece2eb38",
   "metadata": {},
   "source": [
    "## 1.- El  doble de mi edad tiene 24 años, ¿cuántos años tengo?"
   ]
  },
  {
   "cell_type": "code",
   "execution_count": 55,
   "id": "8a480263",
   "metadata": {},
   "outputs": [
    {
     "name": "stdout",
     "output_type": "stream",
     "text": [
      "Tengo  12  años\n"
     ]
    }
   ],
   "source": [
    "años=int(24/2)\n",
    "print(\"Tengo \",años,\" años\")"
   ]
  },
  {
   "cell_type": "markdown",
   "id": "1d91b7e2",
   "metadata": {},
   "source": [
    "## 2.- A un tercio de la edad de mi hermana la disminuyo en 15 años. Tengo 6 años ¿Qué edad tiene?"
   ]
  },
  {
   "cell_type": "code",
   "execution_count": 45,
   "id": "80d527f3",
   "metadata": {},
   "outputs": [],
   "source": [
    "mi_edad=6"
   ]
  },
  {
   "cell_type": "code",
   "execution_count": 46,
   "id": "4742977d",
   "metadata": {},
   "outputs": [],
   "source": [
    "#mi_edad=edad_hermana/3-15"
   ]
  },
  {
   "cell_type": "code",
   "execution_count": 47,
   "id": "5a79e594",
   "metadata": {},
   "outputs": [],
   "source": [
    "edad_hermana=(mi_edad+15)*3"
   ]
  },
  {
   "cell_type": "code",
   "execution_count": 56,
   "id": "9988138c",
   "metadata": {},
   "outputs": [
    {
     "name": "stdout",
     "output_type": "stream",
     "text": [
      "Mi hermana tiene  63  años\n"
     ]
    }
   ],
   "source": [
    "print(\"Mi hermana tiene \",edad_hermana,\" años\")"
   ]
  },
  {
   "cell_type": "code",
   "execution_count": null,
   "id": "776c826b",
   "metadata": {},
   "outputs": [],
   "source": []
  },
  {
   "cell_type": "markdown",
   "id": "0fb9ddb3",
   "metadata": {},
   "source": [
    "## 3.- Determina quien es más grande"
   ]
  },
  {
   "cell_type": "code",
   "execution_count": 57,
   "id": "81fb7ea4",
   "metadata": {},
   "outputs": [
    {
     "name": "stdout",
     "output_type": "stream",
     "text": [
      "Mi hermana es mayor\n"
     ]
    }
   ],
   "source": [
    "if edad_hermana > mi_edad:\n",
    "    print(\"Mi hermana es mayor\")\n",
    "elif edad_hermana==mi_edad:\n",
    "    print(\"Tienen la misma edad\")\n",
    "else:\n",
    "    print(\"Yo soy mayor\")"
   ]
  },
  {
   "cell_type": "code",
   "execution_count": null,
   "id": "6e235d0a",
   "metadata": {},
   "outputs": [],
   "source": []
  }
 ],
 "metadata": {
  "kernelspec": {
   "display_name": "Python 3",
   "language": "python",
   "name": "python3"
  },
  "language_info": {
   "codemirror_mode": {
    "name": "ipython",
    "version": 3
   },
   "file_extension": ".py",
   "mimetype": "text/x-python",
   "name": "python",
   "nbconvert_exporter": "python",
   "pygments_lexer": "ipython3",
   "version": "3.6.13"
  }
 },
 "nbformat": 4,
 "nbformat_minor": 5
}
