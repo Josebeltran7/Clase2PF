{
 "cells": [
  {
   "cell_type": "code",
   "execution_count": 20,
   "id": "751b28c9",
   "metadata": {},
   "outputs": [],
   "source": [
    "tupla1=(1,\"Silla\",True,2.2,[\"Silla\",\"Cuchara\"])"
   ]
  },
  {
   "cell_type": "code",
   "execution_count": 21,
   "id": "15889005",
   "metadata": {},
   "outputs": [],
   "source": [
    "lista1=list(tupla1)"
   ]
  },
  {
   "cell_type": "code",
   "execution_count": 22,
   "id": "f84aadb5",
   "metadata": {},
   "outputs": [],
   "source": [
    "Claves=[\"C1\",\"C2\",\"C3\",\"C4\",\"C5\"]"
   ]
  },
  {
   "cell_type": "code",
   "execution_count": 23,
   "id": "9f2e67d3",
   "metadata": {},
   "outputs": [],
   "source": [
    "diccionario={\n",
    "    Claves[0]:lista1[0],\n",
    "    Claves[1]:lista1[1],\n",
    "    Claves[2]:lista1[2],\n",
    "    Claves[3]:lista1[3],\n",
    "    Claves[4]:lista1[4],\n",
    "}"
   ]
  },
  {
   "cell_type": "code",
   "execution_count": 24,
   "id": "1a38b326",
   "metadata": {},
   "outputs": [
    {
     "data": {
      "text/plain": [
       "{'C1': 1, 'C2': 'Silla', 'C3': True, 'C4': 2.2, 'C5': ['Silla', 'Cuchara']}"
      ]
     },
     "execution_count": 24,
     "metadata": {},
     "output_type": "execute_result"
    }
   ],
   "source": [
    "diccionario"
   ]
  },
  {
   "cell_type": "code",
   "execution_count": null,
   "id": "00a30f6f",
   "metadata": {},
   "outputs": [],
   "source": []
  },
  {
   "cell_type": "code",
   "execution_count": null,
   "id": "c3aaf7f4",
   "metadata": {},
   "outputs": [],
   "source": []
  },
  {
   "cell_type": "code",
   "execution_count": 25,
   "id": "52c1faac",
   "metadata": {},
   "outputs": [
    {
     "data": {
      "text/plain": [
       "tuple"
      ]
     },
     "execution_count": 25,
     "metadata": {},
     "output_type": "execute_result"
    }
   ],
   "source": [
    "type(tupla1)"
   ]
  },
  {
   "cell_type": "code",
   "execution_count": 26,
   "id": "5ca98009",
   "metadata": {},
   "outputs": [
    {
     "data": {
      "text/plain": [
       "list"
      ]
     },
     "execution_count": 26,
     "metadata": {},
     "output_type": "execute_result"
    }
   ],
   "source": [
    "type(lista1)"
   ]
  },
  {
   "cell_type": "code",
   "execution_count": null,
   "id": "38512146",
   "metadata": {},
   "outputs": [],
   "source": []
  }
 ],
 "metadata": {
  "kernelspec": {
   "display_name": "Python 3",
   "language": "python",
   "name": "python3"
  },
  "language_info": {
   "codemirror_mode": {
    "name": "ipython",
    "version": 3
   },
   "file_extension": ".py",
   "mimetype": "text/x-python",
   "name": "python",
   "nbconvert_exporter": "python",
   "pygments_lexer": "ipython3",
   "version": "3.6.13"
  }
 },
 "nbformat": 4,
 "nbformat_minor": 5
}
