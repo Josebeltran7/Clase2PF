{
 "cells": [
  {
   "cell_type": "markdown",
   "metadata": {},
   "source": [
    "Actividad 10"
   ]
  },
  {
   "cell_type": "code",
   "execution_count": 2,
   "metadata": {},
   "outputs": [
    {
     "data": {
      "text/plain": [
       "{'Miguel': 2, 'Raul': 20, 'Jose': 5, 'Marta': 45, 'Francisco': 78, 'Maria': 12}"
      ]
     },
     "execution_count": 2,
     "metadata": {},
     "output_type": "execute_result"
    }
   ],
   "source": [
    "import numpy as np\n",
    "diccionario={\"Miguel\":2,\"Raul\":20,\"Jose\":5, \"Marta\":45, \"Francisco\":78,\"Maria\":12}\n",
    "diccionario"
   ]
  },
  {
   "cell_type": "code",
   "execution_count": 6,
   "metadata": {},
   "outputs": [
    {
     "name": "stdout",
     "output_type": "stream",
     "text": [
      "El numero que dijo:  Miguel es  2\n",
      "El numero que dijo:  Raul es  20\n",
      "El numero que dijo:  Jose es  5\n",
      "El numero que dijo:  Marta es  45\n",
      "El numero que dijo:  Francisco es  78\n",
      "El numero que dijo:  Maria es  12\n",
      "\n",
      "El numero menor fue:  2\n",
      "\n",
      "El numero mayor fue:  78\n"
     ]
    }
   ],
   "source": [
    "for j,k in diccionario.items():\n",
    "    print(\"El numero que dijo: \", j,\"es \",k)\n",
    "print(\"\\nEl numero menor fue: \",min(diccionario.values()))\n",
    "print(\"\\nEl numero mayor fue: \",max(diccionario.values()))"
   ]
  },
  {
   "cell_type": "code",
   "execution_count": null,
   "metadata": {},
   "outputs": [],
   "source": []
  }
 ],
 "metadata": {
  "kernelspec": {
   "display_name": "Python 3.9.12 ('base')",
   "language": "python",
   "name": "python3"
  },
  "language_info": {
   "codemirror_mode": {
    "name": "ipython",
    "version": 3
   },
   "file_extension": ".py",
   "mimetype": "text/x-python",
   "name": "python",
   "nbconvert_exporter": "python",
   "pygments_lexer": "ipython3",
   "version": "3.9.12"
  },
  "orig_nbformat": 4,
  "vscode": {
   "interpreter": {
    "hash": "240b3959b0736b0bf343db406c3a478a4a57495b01ca9b0c3c0b1c272615bb24"
   }
  }
 },
 "nbformat": 4,
 "nbformat_minor": 2
}
