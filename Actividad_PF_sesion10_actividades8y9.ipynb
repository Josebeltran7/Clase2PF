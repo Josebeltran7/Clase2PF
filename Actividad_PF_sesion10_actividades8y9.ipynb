{
 "cells": [
  {
   "cell_type": "markdown",
   "id": "8f4f7cec",
   "metadata": {},
   "source": [
    "### Actividad 8: Hagamos un programa que determine si eres mayor o menor de edad"
   ]
  },
  {
   "cell_type": "code",
   "execution_count": 1,
   "id": "c311488d",
   "metadata": {},
   "outputs": [
    {
     "name": "stdout",
     "output_type": "stream",
     "text": [
      "Ingresar su edad aqui: 18\n",
      "Usted es mayor de edad\n"
     ]
    }
   ],
   "source": [
    "edad=int(input(\"Ingresar su edad aqui: \"))\n",
    "if edad>=18:\n",
    "    print(\"Usted es mayor de edad\")\n",
    "else:\n",
    "    print(\"Usted es menor de edad\")"
   ]
  },
  {
   "cell_type": "markdown",
   "id": "c64ec85c",
   "metadata": {},
   "source": [
    "### Actividad 9:Pide al usuario que ingrese dos numeros y muestre cual de los dos es menor. Considere el caso en que ambos numeros son iguales."
   ]
  },
  {
   "cell_type": "code",
   "execution_count": 6,
   "id": "a38da63a",
   "metadata": {},
   "outputs": [
    {
     "name": "stdout",
     "output_type": "stream",
     "text": [
      "Ingrese el primer numero a comparar: 3\n",
      "Ingrese el segundo numero a comparar: 3\n",
      "Los dos numeros son iguales, el valor para ambos es : 3\n"
     ]
    }
   ],
   "source": [
    "n1=input(\"Ingrese el primer numero a comparar: \")\n",
    "n2=input(\"Ingrese el segundo numero a comparar: \")\n",
    "if n1==n2:\n",
    "    print(\"Los dos numeros son iguales, el valor para ambos es :\",n1)\n",
    "else:\n",
    "    print(\"El numero menor es :\",min(n1,n2))"
   ]
  },
  {
   "cell_type": "code",
   "execution_count": null,
   "id": "29051822",
   "metadata": {},
   "outputs": [],
   "source": []
  },
  {
   "cell_type": "code",
   "execution_count": null,
   "id": "a5cdd508",
   "metadata": {},
   "outputs": [],
   "source": []
  }
 ],
 "metadata": {
  "kernelspec": {
   "display_name": "Python 3",
   "language": "python",
   "name": "python3"
  },
  "language_info": {
   "codemirror_mode": {
    "name": "ipython",
    "version": 3
   },
   "file_extension": ".py",
   "mimetype": "text/x-python",
   "name": "python",
   "nbconvert_exporter": "python",
   "pygments_lexer": "ipython3",
   "version": "3.6.13"
  }
 },
 "nbformat": 4,
 "nbformat_minor": 5
}
