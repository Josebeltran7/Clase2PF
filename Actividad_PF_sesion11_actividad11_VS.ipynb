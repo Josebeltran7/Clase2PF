{
 "cells": [
  {
   "cell_type": "markdown",
   "metadata": {},
   "source": [
    "#Crear un programa que permita al usuario ingresar los montos de las compras de un cliente (se desconoce la cantidad de datos que se cargarán, que pueden cambiar en cada ejecución), cortando el ingreso de datos cuando el usuario ingresa el monto 0.\n",
    "\n",
    "#Si ingresa una cantidad negativa, no debe procesarse y se le debe solicitar que ingrese una nueva cantidad. Al ﬁnalizar, informar el total a pagar teniendo en cuenta que, si las ventas superan el total de $ 1000, se debe aplicar un 10% de descuento.\n",
    "\n",
    "#¡Importante hacerlo en Visual Studio! Suerte"
   ]
  },
  {
   "cell_type": "code",
   "execution_count": 1,
   "metadata": {},
   "outputs": [
    {
     "name": "stdout",
     "output_type": "stream",
     "text": [
      "Productor comprados:  2\n",
      "Total a pagar: $ 600.0 \n",
      "Si compra $ 400.0  mas recibira un 10% de descuento!\n"
     ]
    }
   ],
   "source": [
    "suma=0\n",
    "contador=0\n",
    "monto=float(input(\"Ingrese el monto del producto, ingresar cero para detener: \"))\n",
    "while monto!=0:\n",
    "    while monto<0:\n",
    "        monto=int(input(\"El monto debe ser un numero positivo, intente nuevamente, ingresar cero para detener: \"))\n",
    "    if monto>0:\n",
    "        contador+=1\n",
    "        suma+=monto\n",
    "        monto=float(input(\"Ingrese el monto del producto, ingresar cero para detener: \"))\n",
    "print(\"Productor comprados: \", contador)\n",
    "if suma>=1000:\n",
    "    print(\"Subtotal: $\", suma,\"\\nDescuento: $\",suma*.1,\"\\nTotal a pagar: $\",suma*.9)\n",
    "else:\n",
    "    print(\"Total a pagar: $\", suma,\"\\nSi compra $\", (1000-suma),\" mas recibira un 10% de descuento!\")\n",
    "    \n",
    "        "
   ]
  },
  {
   "cell_type": "code",
   "execution_count": null,
   "metadata": {},
   "outputs": [],
   "source": []
  }
 ],
 "metadata": {
  "kernelspec": {
   "display_name": "Python 3.9.12 ('base')",
   "language": "python",
   "name": "python3"
  },
  "language_info": {
   "codemirror_mode": {
    "name": "ipython",
    "version": 3
   },
   "file_extension": ".py",
   "mimetype": "text/x-python",
   "name": "python",
   "nbconvert_exporter": "python",
   "pygments_lexer": "ipython3",
   "version": "3.9.12"
  },
  "orig_nbformat": 4,
  "vscode": {
   "interpreter": {
    "hash": "240b3959b0736b0bf343db406c3a478a4a57495b01ca9b0c3c0b1c272615bb24"
   }
  }
 },
 "nbformat": 4,
 "nbformat_minor": 2
}
