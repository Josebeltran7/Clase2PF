{
 "cells": [
  {
   "cell_type": "markdown",
   "metadata": {},
   "source": [
    "#Crea una función en la cual recibas como argumentos los parámetros de una función cuadrática, y te regrese x1 y x2."
   ]
  },
  {
   "cell_type": "code",
   "execution_count": 1,
   "metadata": {},
   "outputs": [],
   "source": [
    "def eq_cuadratica(a,b,c):\n",
    "    x1=(-b-(b**2-4*a*c)**(1/2))/(2*a)\n",
    "    x2=(-b+(b**2-4*a*c)**(1/2))/(2*a)\n",
    "\n",
    "\n",
    "    return print(\"x1 = \", x1,\"\\nx2= \",x2)"
   ]
  },
  {
   "cell_type": "code",
   "execution_count": 4,
   "metadata": {},
   "outputs": [
    {
     "name": "stdout",
     "output_type": "stream",
     "text": [
      "x1 =  0.4669578096907816 \n",
      "x2=  4.283042190309218\n"
     ]
    }
   ],
   "source": [
    "eq_cuadratica(4,-19,8)"
   ]
  },
  {
   "cell_type": "code",
   "execution_count": null,
   "metadata": {},
   "outputs": [],
   "source": []
  }
 ],
 "metadata": {
  "kernelspec": {
   "display_name": "Python 3.9.12 ('base')",
   "language": "python",
   "name": "python3"
  },
  "language_info": {
   "codemirror_mode": {
    "name": "ipython",
    "version": 3
   },
   "file_extension": ".py",
   "mimetype": "text/x-python",
   "name": "python",
   "nbconvert_exporter": "python",
   "pygments_lexer": "ipython3",
   "version": "3.9.12"
  },
  "orig_nbformat": 4,
  "vscode": {
   "interpreter": {
    "hash": "240b3959b0736b0bf343db406c3a478a4a57495b01ca9b0c3c0b1c272615bb24"
   }
  }
 },
 "nbformat": 4,
 "nbformat_minor": 2
}
