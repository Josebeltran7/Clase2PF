{
 "cells": [
  {
   "cell_type": "markdown",
   "metadata": {},
   "source": [
    "#1.- Crear un programa en Visual Studio que me permita saber cuál es el competidor más veterano que ha recibido medalla (oro, plata o bronce)."
   ]
  },
  {
   "cell_type": "code",
   "execution_count": 2,
   "metadata": {},
   "outputs": [
    {
     "name": "stdout",
     "output_type": "stream",
     "text": [
      "Los atletas de mayor edad en ganar una medalla de Oro son:  ['Charles Jacobus', 'Oscar Gomer Swahn'] teniendo  64.0  años\n",
      "Los atletas de mayor edad en ganar una medalla de Plata son:  ['John (Herbert Crawford-) Copley (Williamson-)'] teniendo  73.0  años\n",
      "Los atletas de mayor edad en ganar una medalla de Bronce son:  ['Jozu Dupon'] teniendo  72.0  años\n"
     ]
    }
   ],
   "source": [
    "import pandas as pd\n",
    "import numpy as np\n",
    "\n",
    "datos1=pd.read_csv(\"C:\\\\Users\\\\JBELTRAN\\\\Documents\\\\Python_fundamentals\\\\athlete_events.csv\")\n",
    "Oro=datos1[datos1[\"Medal\"]==\"Gold\"]\n",
    "Plata=datos1[datos1[\"Medal\"]==\"Silver\"]\n",
    "Bronce=datos1[datos1[\"Medal\"]==\"Bronze\"]\n",
    "\n",
    "Oro2=Oro[Oro[\"Age\"].notna()]\n",
    "Plata2=Plata[Plata[\"Age\"].notna()]\n",
    "Bronce2=Bronce[Bronce[\"Age\"].notna()]\n",
    "\n",
    "lista_oro=list(Oro2[Oro2[\"Age\"]==Oro2[\"Age\"].max()][\"Name\"])\n",
    "lista_plata=list(Plata2[Plata2[\"Age\"]==Plata2[\"Age\"].max()][\"Name\"])\n",
    "lista_bronce=list(Bronce2[Bronce2[\"Age\"]==Bronce2[\"Age\"].max()][\"Name\"])\n",
    "\n",
    "print(\"Los atletas de mayor edad en ganar una medalla de Oro son: \", lista_oro, \"teniendo \", Oro2[\"Age\"].max(), \" años\")\n",
    "print(\"Los atletas de mayor edad en ganar una medalla de Plata son: \", lista_plata, \"teniendo \", Plata2[\"Age\"].max(), \" años\")\n",
    "print(\"Los atletas de mayor edad en ganar una medalla de Bronce son: \", lista_bronce, \"teniendo \", Bronce2[\"Age\"].max(), \" años\")"
   ]
  },
  {
   "cell_type": "markdown",
   "metadata": {},
   "source": [
    "#2.- Crear un programa en Visual Studio que me permita saber cuál es el competidor más joven que ha recibido medalla de oro"
   ]
  },
  {
   "cell_type": "code",
   "execution_count": 3,
   "metadata": {},
   "outputs": [
    {
     "name": "stdout",
     "output_type": "stream",
     "text": [
      "Los atletas de MENOR edad en ganar una medalla de Oro son:  ['Hans Bourquin', 'Donna Elizabeth de Varona (-Pinto)', 'Fu Mingxia', 'Marjorie Gestring (-Redlick)', 'Kim Yun-Mi', 'Aileen Muriel Riggin (-Soule)', 'Klaus Zerta'] teniendo  13.0  años\n"
     ]
    }
   ],
   "source": [
    "lista_oro_menor=list(Oro2[Oro2[\"Age\"]==Oro2[\"Age\"].min()][\"Name\"])\n",
    "print(\"Los atletas de MENOR edad en ganar una medalla de Oro son: \", lista_oro_menor, \"teniendo \", Oro2[\"Age\"].min(), \" años\")"
   ]
  },
  {
   "cell_type": "markdown",
   "metadata": {},
   "source": [
    "#Encuentra al competidor más ganador de la historia y crea un csv con toda su información."
   ]
  },
  {
   "cell_type": "code",
   "execution_count": 4,
   "metadata": {},
   "outputs": [
    {
     "name": "stdout",
     "output_type": "stream",
     "text": [
      "El maximo ganador de medallas es:  Michael Fred Phelps, II con:  28  medallas\n"
     ]
    }
   ],
   "source": [
    "medallas=datos1[datos1[\"Medal\"].notna()]\n",
    "md=medallas[\"Name\"].value_counts()\n",
    "md.index.tolist()[0]\n",
    "print(\"El maximo ganador de medallas es: \",md.index.tolist()[0], \"con: \",md.max(), \" medallas\")"
   ]
  },
  {
   "cell_type": "code",
   "execution_count": null,
   "metadata": {},
   "outputs": [],
   "source": []
  }
 ],
 "metadata": {
  "kernelspec": {
   "display_name": "Python 3.9.12 ('base')",
   "language": "python",
   "name": "python3"
  },
  "language_info": {
   "codemirror_mode": {
    "name": "ipython",
    "version": 3
   },
   "file_extension": ".py",
   "mimetype": "text/x-python",
   "name": "python",
   "nbconvert_exporter": "python",
   "pygments_lexer": "ipython3",
   "version": "3.9.12"
  },
  "orig_nbformat": 4,
  "vscode": {
   "interpreter": {
    "hash": "240b3959b0736b0bf343db406c3a478a4a57495b01ca9b0c3c0b1c272615bb24"
   }
  }
 },
 "nbformat": 4,
 "nbformat_minor": 2
}
