{
 "cells": [
  {
   "cell_type": "markdown",
   "metadata": {},
   "source": [
    "#Crear una calculadora con al menos 4 operaciones básicas"
   ]
  },
  {
   "cell_type": "code",
   "execution_count": 1,
   "metadata": {},
   "outputs": [
    {
     "name": "stdout",
     "output_type": "stream",
     "text": [
      "La suma es:  22\n",
      "La resta es:  18\n",
      "La multiplicación es:  40\n",
      "La división es:  10.0\n",
      "Error, no dividir entre 0\n"
     ]
    }
   ],
   "source": [
    "class calculadora:\n",
    "    \"\"\"Calculadora de 4 operaciones basicas para dos parametros\"\"\"\n",
    "    def __init__(self,N1,N2):\n",
    "        self.N1= N1\n",
    "        self.N2= N2\n",
    "    \n",
    "    def suma(self):\n",
    "        total=self.N1+self.N2\n",
    "        return print(\"La suma es: \",total)\n",
    "    \n",
    "    def resta(self):\n",
    "        total=self.N1-self.N2\n",
    "        return print(\"La resta es: \",total)\n",
    "    \n",
    "    def mult(self):\n",
    "        total=self.N1*self.N2\n",
    "        return print(\"La multiplicación es: \",total)\n",
    "    \n",
    "    def div(self):\n",
    "        if self.N2==0:\n",
    "            print(\"Error, no dividir entre 0\")\n",
    "        else:\n",
    "            total=self.N1/self.N2\n",
    "            return print(\"La división es: \",total)\n",
    "        \n",
    "calculadora(20,2).suma()\n",
    "calculadora(20,2).resta()\n",
    "calculadora(20,2).mult()\n",
    "calculadora(20,2).div()\n",
    "calculadora(20,0).div()"
   ]
  },
  {
   "cell_type": "code",
   "execution_count": null,
   "metadata": {},
   "outputs": [],
   "source": []
  }
 ],
 "metadata": {
  "kernelspec": {
   "display_name": "Python 3.9.12 ('base')",
   "language": "python",
   "name": "python3"
  },
  "language_info": {
   "codemirror_mode": {
    "name": "ipython",
    "version": 3
   },
   "file_extension": ".py",
   "mimetype": "text/x-python",
   "name": "python",
   "nbconvert_exporter": "python",
   "pygments_lexer": "ipython3",
   "version": "3.9.12"
  },
  "orig_nbformat": 4,
  "vscode": {
   "interpreter": {
    "hash": "240b3959b0736b0bf343db406c3a478a4a57495b01ca9b0c3c0b1c272615bb24"
   }
  }
 },
 "nbformat": 4,
 "nbformat_minor": 2
}
