{
 "cells": [
  {
   "cell_type": "markdown",
   "id": "e965c8b5",
   "metadata": {},
   "source": [
    "## 1.- Crear una gráfica de barras que represente a los 10 paises con mas medallas ganadas."
   ]
  },
  {
   "cell_type": "code",
   "execution_count": 1,
   "id": "4f4bb456",
   "metadata": {},
   "outputs": [],
   "source": [
    "import pandas as pd\n",
    "import numpy as np"
   ]
  },
  {
   "cell_type": "code",
   "execution_count": 2,
   "id": "bd125621",
   "metadata": {},
   "outputs": [],
   "source": [
    "datos1=pd.read_csv(\"C:\\\\Users\\\\JBELTRAN\\\\Documents\\\\Python_fundamentals\\\\athlete_events.csv\")"
   ]
  },
  {
   "cell_type": "code",
   "execution_count": null,
   "id": "6e30f447",
   "metadata": {},
   "outputs": [],
   "source": []
  },
  {
   "cell_type": "code",
   "execution_count": 4,
   "id": "03c36f05",
   "metadata": {},
   "outputs": [],
   "source": [
    "medallas=datos1[datos1[\"Medal\"].notna()]"
   ]
  },
  {
   "cell_type": "code",
   "execution_count": 18,
   "id": "d7dafd27",
   "metadata": {},
   "outputs": [
    {
     "data": {
      "text/plain": [
       "USA    5637\n",
       "URS    2503\n",
       "GER    2165\n",
       "GBR    2068\n",
       "FRA    1777\n",
       "       ... \n",
       "KOS       1\n",
       "TGA       1\n",
       "SUD       1\n",
       "DJI       1\n",
       "SEN       1\n",
       "Name: NOC, Length: 149, dtype: int64"
      ]
     },
     "execution_count": 18,
     "metadata": {},
     "output_type": "execute_result"
    }
   ],
   "source": [
    "md=medallas[\"NOC\"].value_counts()\n",
    "md"
   ]
  },
  {
   "cell_type": "code",
   "execution_count": 20,
   "id": "6b01199f",
   "metadata": {},
   "outputs": [
    {
     "data": {
      "text/plain": [
       "<AxesSubplot:>"
      ]
     },
     "execution_count": 20,
     "metadata": {},
     "output_type": "execute_result"
    },
    {
     "data": {
      "image/png": "[encoded data removed]",
      "text/plain": [
       "<Figure size 432x288 with 1 Axes>"
      ]
     },
     "metadata": {
      "needs_background": "light"
     },
     "output_type": "display_data"
    }
   ],
   "source": [
    "md.head(10).plot(kind=\"bar\")"
   ]
  },
  {
   "cell_type": "code",
   "execution_count": null,
   "id": "9c3346b2",
   "metadata": {},
   "outputs": [],
   "source": []
  },
  {
   "cell_type": "code",
   "execution_count": null,
   "id": "68498b85",
   "metadata": {},
   "outputs": [],
   "source": []
  },
  {
   "cell_type": "code",
   "execution_count": null,
   "id": "22bc4ef8",
   "metadata": {},
   "outputs": [],
   "source": []
  }
 ],
 "metadata": {
  "kernelspec": {
   "display_name": "Python 3",
   "language": "python",
   "name": "python3"
  },
  "language_info": {
   "codemirror_mode": {
    "name": "ipython",
    "version": 3
   },
   "file_extension": ".py",
   "mimetype": "text/x-python",
   "name": "python",
   "nbconvert_exporter": "python",
   "pygments_lexer": "ipython3",
   "version": "3.6.13"
  }
 },
 "nbformat": 4,
 "nbformat_minor": 5
}
