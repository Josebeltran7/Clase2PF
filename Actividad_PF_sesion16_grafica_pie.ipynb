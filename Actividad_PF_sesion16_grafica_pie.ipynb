{
 "cells": [
  {
   "cell_type": "markdown",
   "id": "c17b98d7",
   "metadata": {},
   "source": [
    "## Crea y guarda una gráﬁca de pay del año más reciente de la  base de datos"
   ]
  },
  {
   "cell_type": "code",
   "execution_count": 1,
   "id": "80f9fe9d",
   "metadata": {},
   "outputs": [],
   "source": [
    "import pandas as pd\n",
    "import numpy as np"
   ]
  },
  {
   "cell_type": "code",
   "execution_count": 2,
   "id": "c7aed4a1",
   "metadata": {},
   "outputs": [],
   "source": [
    "datos1=pd.read_csv(\"C:\\\\Users\\\\JBELTRAN\\\\Documents\\\\Python_fundamentals\\\\athlete_events.csv\")"
   ]
  },
  {
   "cell_type": "code",
   "execution_count": 3,
   "id": "90126067",
   "metadata": {},
   "outputs": [],
   "source": [
    "Ejer_clase=datos1[[\"Year\",\"Season\",\"Medal\",\"NOC\"]]"
   ]
  },
  {
   "cell_type": "code",
   "execution_count": 4,
   "id": "c0ca4d05",
   "metadata": {},
   "outputs": [],
   "source": [
    "dummies=pd.get_dummies(Ejer_clase[\"Medal\"])"
   ]
  },
  {
   "cell_type": "code",
   "execution_count": 5,
   "id": "2f64da3f",
   "metadata": {},
   "outputs": [],
   "source": [
    "concatenado=pd.concat([Ejer_clase,dummies],axis=1)"
   ]
  },
  {
   "cell_type": "code",
   "execution_count": null,
   "id": "086673c8",
   "metadata": {},
   "outputs": [],
   "source": []
  },
  {
   "cell_type": "code",
   "execution_count": 21,
   "id": "b2cc0fa5",
   "metadata": {},
   "outputs": [
    {
     "data": {
      "text/html": [
       "<div>\n",
       "<style scoped>\n",
       "    .dataframe tbody tr th:only-of-type {\n",
       "        vertical-align: middle;\n",
       "    }\n",
       "\n",
       "    .dataframe tbody tr th {\n",
       "        vertical-align: top;\n",
       "    }\n",
       "\n",
       "    .dataframe thead th {\n",
       "        text-align: right;\n",
       "    }\n",
       "</style>\n",
       "<table border=\"1\" class=\"dataframe\">\n",
       "  <thead>\n",
       "    <tr style=\"text-align: right;\">\n",
       "      <th></th>\n",
       "      <th></th>\n",
       "      <th></th>\n",
       "      <th>Bronze</th>\n",
       "      <th>Gold</th>\n",
       "      <th>Silver</th>\n",
       "      <th>Total_Medals</th>\n",
       "    </tr>\n",
       "    <tr>\n",
       "      <th>Year</th>\n",
       "      <th>Medal</th>\n",
       "      <th>Season</th>\n",
       "      <th></th>\n",
       "      <th></th>\n",
       "      <th></th>\n",
       "      <th></th>\n",
       "    </tr>\n",
       "  </thead>\n",
       "  <tbody>\n",
       "    <tr>\n",
       "      <th rowspan=\"3\" valign=\"top\">1896</th>\n",
       "      <th>Bronze</th>\n",
       "      <th>Summer</th>\n",
       "      <td>38.0</td>\n",
       "      <td>0.0</td>\n",
       "      <td>0.0</td>\n",
       "      <td>38.0</td>\n",
       "    </tr>\n",
       "    <tr>\n",
       "      <th>Gold</th>\n",
       "      <th>Summer</th>\n",
       "      <td>0.0</td>\n",
       "      <td>62.0</td>\n",
       "      <td>0.0</td>\n",
       "      <td>62.0</td>\n",
       "    </tr>\n",
       "    <tr>\n",
       "      <th>Silver</th>\n",
       "      <th>Summer</th>\n",
       "      <td>0.0</td>\n",
       "      <td>0.0</td>\n",
       "      <td>43.0</td>\n",
       "      <td>43.0</td>\n",
       "    </tr>\n",
       "    <tr>\n",
       "      <th rowspan=\"2\" valign=\"top\">1900</th>\n",
       "      <th>Bronze</th>\n",
       "      <th>Summer</th>\n",
       "      <td>175.0</td>\n",
       "      <td>0.0</td>\n",
       "      <td>0.0</td>\n",
       "      <td>175.0</td>\n",
       "    </tr>\n",
       "    <tr>\n",
       "      <th>Gold</th>\n",
       "      <th>Summer</th>\n",
       "      <td>0.0</td>\n",
       "      <td>201.0</td>\n",
       "      <td>0.0</td>\n",
       "      <td>201.0</td>\n",
       "    </tr>\n",
       "    <tr>\n",
       "      <th>...</th>\n",
       "      <th>...</th>\n",
       "      <th>...</th>\n",
       "      <td>...</td>\n",
       "      <td>...</td>\n",
       "      <td>...</td>\n",
       "      <td>...</td>\n",
       "    </tr>\n",
       "    <tr>\n",
       "      <th rowspan=\"2\" valign=\"top\">2014</th>\n",
       "      <th>Gold</th>\n",
       "      <th>Winter</th>\n",
       "      <td>0.0</td>\n",
       "      <td>202.0</td>\n",
       "      <td>0.0</td>\n",
       "      <td>202.0</td>\n",
       "    </tr>\n",
       "    <tr>\n",
       "      <th>Silver</th>\n",
       "      <th>Winter</th>\n",
       "      <td>0.0</td>\n",
       "      <td>0.0</td>\n",
       "      <td>197.0</td>\n",
       "      <td>197.0</td>\n",
       "    </tr>\n",
       "    <tr>\n",
       "      <th rowspan=\"3\" valign=\"top\">2016</th>\n",
       "      <th>Bronze</th>\n",
       "      <th>Summer</th>\n",
       "      <td>703.0</td>\n",
       "      <td>0.0</td>\n",
       "      <td>0.0</td>\n",
       "      <td>703.0</td>\n",
       "    </tr>\n",
       "    <tr>\n",
       "      <th>Gold</th>\n",
       "      <th>Summer</th>\n",
       "      <td>0.0</td>\n",
       "      <td>665.0</td>\n",
       "      <td>0.0</td>\n",
       "      <td>665.0</td>\n",
       "    </tr>\n",
       "    <tr>\n",
       "      <th>Silver</th>\n",
       "      <th>Summer</th>\n",
       "      <td>0.0</td>\n",
       "      <td>0.0</td>\n",
       "      <td>655.0</td>\n",
       "      <td>655.0</td>\n",
       "    </tr>\n",
       "  </tbody>\n",
       "</table>\n",
       "<p>153 rows × 4 columns</p>\n",
       "</div>"
      ],
      "text/plain": [
       "                    Bronze   Gold  Silver  Total_Medals\n",
       "Year Medal  Season                                     \n",
       "1896 Bronze Summer    38.0    0.0     0.0          38.0\n",
       "     Gold   Summer     0.0   62.0     0.0          62.0\n",
       "     Silver Summer     0.0    0.0    43.0          43.0\n",
       "1900 Bronze Summer   175.0    0.0     0.0         175.0\n",
       "     Gold   Summer     0.0  201.0     0.0         201.0\n",
       "...                    ...    ...     ...           ...\n",
       "2014 Gold   Winter     0.0  202.0     0.0         202.0\n",
       "     Silver Winter     0.0    0.0   197.0         197.0\n",
       "2016 Bronze Summer   703.0    0.0     0.0         703.0\n",
       "     Gold   Summer     0.0  665.0     0.0         665.0\n",
       "     Silver Summer     0.0    0.0   655.0         655.0\n",
       "\n",
       "[153 rows x 4 columns]"
      ]
     },
     "execution_count": 21,
     "metadata": {},
     "output_type": "execute_result"
    }
   ],
   "source": [
    "agrupado=concatenado.groupby([\"Year\",\"Medal\",\"Season\"]).sum()\n",
    "agrupado[\"Total_Medals\"]=agrupado[\"Bronze\"]+agrupado[\"Silver\"]+agrupado[\"Gold\"]\n",
    "agrupado"
   ]
  },
  {
   "cell_type": "code",
   "execution_count": 22,
   "id": "ee7f9aee",
   "metadata": {},
   "outputs": [
    {
     "data": {
      "image/png": "[encoded data removed]",
      "text/plain": [
       "<Figure size 720x360 with 1 Axes>"
      ]
     },
     "metadata": {},
     "output_type": "display_data"
    }
   ],
   "source": [
    "ultimos=agrupado[\"Total_Medals\"][-3:]\n",
    "nombres=[\"Bronce\",\"Oro\",\"Plata\"]\n",
    "pie_plot=ultimos.plot.pie(figsize=(10,5),labels=nombres,autopct=\"%0.1f %%\")\n",
    "fig=pie_plot.get_figure()\n",
    "fig.savefig(\"Grafica_sesion16_pie.jpg\")"
   ]
  },
  {
   "cell_type": "code",
   "execution_count": 17,
   "id": "47cf9559",
   "metadata": {},
   "outputs": [
    {
     "data": {
      "text/plain": [
       "Year  Medal   Season\n",
       "2016  Bronze  Summer    703.0\n",
       "      Gold    Summer    665.0\n",
       "      Silver  Summer    655.0\n",
       "Name: Total_Medals, dtype: float64"
      ]
     },
     "execution_count": 17,
     "metadata": {},
     "output_type": "execute_result"
    }
   ],
   "source": [
    "ultimos"
   ]
  },
  {
   "cell_type": "code",
   "execution_count": null,
   "id": "fb1beae5",
   "metadata": {},
   "outputs": [],
   "source": []
  }
 ],
 "metadata": {
  "kernelspec": {
   "display_name": "Python 3",
   "language": "python",
   "name": "python3"
  },
  "language_info": {
   "codemirror_mode": {
    "name": "ipython",
    "version": 3
   },
   "file_extension": ".py",
   "mimetype": "text/x-python",
   "name": "python",
   "nbconvert_exporter": "python",
   "pygments_lexer": "ipython3",
   "version": "3.6.13"
  }
 },
 "nbformat": 4,
 "nbformat_minor": 5
}
