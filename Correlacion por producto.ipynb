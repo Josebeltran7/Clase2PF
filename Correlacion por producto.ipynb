{
 "cells": [
  {
   "cell_type": "code",
   "execution_count": 1,
   "id": "bea4f69a",
   "metadata": {},
   "outputs": [],
   "source": [
    "import pandas as pd\n",
    "import numpy as np\n",
    "from pandas import ExcelWriter\n",
    "import xlsxwriter\n"
   ]
  },
  {
   "cell_type": "code",
   "execution_count": 2,
   "id": "0cac387b",
   "metadata": {},
   "outputs": [
    {
     "name": "stdout",
     "output_type": "stream",
     "text": [
      "  Laminador     PC  inferior  superior\n",
      "0       CL3   6.00       3.6       7.0\n",
      "1       CL2   6.00       3.6       7.0\n",
      "2       CL1   4.50       4.0       7.0\n",
      "3       CL0  13.00       8.0      17.0\n",
      "4       SL1  10.32       6.0      16.0\n",
      "5       RL1   5.81       2.0       8.5\n",
      "6       RL2   4.98       2.0       8.5\n"
     ]
    }
   ],
   "source": [
    "#Path hacia la base de datos de producto por laminador.\n",
    "path=r'C:\\Users\\JBELTRAN\\Documents\\Python_fundamentals\\Proyecto_final\\Historial produccion2.xls'\n",
    "\n",
    "#Abreviación de laminadores\n",
    "#CL3 > Celaya - Laminador 3\n",
    "#CL2 > Celaya - Laminador 2\n",
    "#CL1 > Celaya - Laminador 1\n",
    "#CL0 > Celaya - Laminador 0\n",
    "#SL1 > Saltillo - Laminación\n",
    "#RL1 > Ramos - SFM\n",
    "#RL2 > Ramos - Molino 2\n",
    "\n",
    "#DF de variables por equipo\n",
    "dict_1={\n",
    "    \"Laminador\":[\"CL3\",\"CL2\",\"CL1\",\"CL0\",\"SL1\",\"RL1\",\"RL2\"], \n",
    "    \"PC\":[6,6,4.5,13,10.32,5.81,4.98],\n",
    "    \"inferior\":[3.6,3.6,4,8,6,2,2],\n",
    "    \"superior\":[7,7,7,17,16,8.5,8.5]\n",
    "}\n",
    "variables=pd.DataFrame(dict_1)\n",
    "print(variables)"
   ]
  },
  {
   "cell_type": "code",
   "execution_count": 3,
   "id": "fff55911",
   "metadata": {},
   "outputs": [],
   "source": [
    "def func_nom(laminador):\n",
    "    Prod=laminador+'_Prod'#Referencia a la columna de tipo de producto del laminador en la BDD.\n",
    "    Con=laminador+'_Con' #Referencia a la columna de consumo del laminador en la BDD.\n",
    "    inferior=float(variables[variables[\"Laminador\"]==laminador][\"inferior\"].values) #limite inferior\n",
    "    superior=float(variables[variables[\"Laminador\"]==laminador][\"superior\"].values) #Limite superior\n",
    "    PC=float(variables[variables[\"Laminador\"]==laminador][\"PC\"].values) #Potencia contratada\n",
    "    \n",
    "    df = pd.read_excel(path, 'Datos', usecols=['Hora',Prod,Con]) #Lectura de base de datos\n",
    "    Productos=df[Prod].dropna().unique() #Productos del laminador\n",
    "    Horas=df['Hora'].dropna().unique() #Horas de consumo diarias\n",
    "\n",
    "    print(\"El laminador seleccionado es: \",laminador,\"\\n\\nLos productos de este laminador son: \",Productos,\"\\n\")\n",
    "    print(\"Limite inferior de cunsumo en operación: \",inferior,\"MWh\\nLimite superior de cunsumo en operación: \",superior,\"MWh\\nPotencia contratada: \",PC,\" MWh\\n\")\n",
    "\n",
    "    print(\"Promedio de consumo por tipo de producto(MWh): \\n\\n\",df.groupby([Prod])[Con].mean().reset_index())\n",
    "\n",
    "    df2= pd.DataFrame(columns=Productos, index=Horas) #Creación de dataframe de nominación\n",
    "    df3= pd.DataFrame(columns=Productos, index=Horas) #Creación de dataframe de MAPE\n",
    "    for d in Productos:\n",
    "        for h in Horas:\n",
    "            dif=500 #Valor inicial del KPI \"MAPE\".\n",
    "            mat=df.query('{0} == @d and Hora ==  @h'.format(Prod))\n",
    "            nom=0\n",
    "            for i in range(1,200,1): #Iteración de la nominación (MWh), nominación (i) multiplicada por 10 para fijar steps en decimales (0.1 MW).\n",
    "                suma=0\n",
    "                c=0 #Contador\n",
    "                for consumo in mat[Con]: #Iteración por hora de consumo.\n",
    "                    if consumo>inferior and consumo<superior:\n",
    "                        suma += abs(consumo-i/10)/PC #Calculo del KPI \"MAPE\" para cada hora e iteración de la nominación\n",
    "                        c += 1\n",
    "                if c!=0:\n",
    "                    if suma/c < dif: #Comparación del MAPE con el valor actual de nominación vs MAPE minimo encontrado.\n",
    "                        dif=suma/c\n",
    "                        nom=i/10\n",
    "            df2.loc[h,d] = nom #Registro del valor de nominación óptima para la hora y producto.\n",
    "            df3.loc[h,d] = dif #Registro del valor MAPE minimo (con la nominación óptima) para la hora y producto.\n",
    "\n",
    "    print('\\nNominación optima por hora y producto laminado (MWh): \\n')\n",
    "    print(df2)\n",
    "    print('\\nMAPE minimo por hora y producto laminado (%): \\n')\n",
    "    print(df3)\n",
    "    \n",
    "    #Se crean el archivo excel de resultados y se añaden las hojas de Nominación y MAPE\n",
    "    writer = pd.ExcelWriter(r'C:\\Users\\JBELTRAN\\Documents\\Python_fundamentals\\Proyecto_final\\{0}_Resultados_nom.xlsx'.format(laminador), engine='xlsxwriter')\n",
    "    df2.to_excel(writer, sheet_name='NOM')\n",
    "    df3.to_excel(writer, sheet_name='MAPE')\n",
    "    \n",
    "\n",
    "    #Creación de la grafica\n",
    "    graf=df.groupby([Prod])[Con].mean().plot.bar(xlabel='Producto',ylabel=\"MWh\",figsize=(10,10),color=\"purple\")\n",
    "    print(\"\\nGrafica del consumo promedio por tipo de producto (MWh): \\n\\n\",graf)\n",
    "    fig=graf.get_figure()\n",
    "    fig.savefig(r'C:\\Users\\JBELTRAN\\Documents\\Python_fundamentals\\Proyecto_final\\{0}_Plot_consumo.jpg'.format(laminador))\n",
    "    \n",
    "    #Escritura de la grafica al archivo excel de resultados\n",
    "    pd.DataFrame({}).to_excel(writer, sheet_name='Imagenes')\n",
    "    worksheet = writer.sheets['Imagenes']\n",
    "    worksheet.insert_image('A1', r'C:\\Users\\JBELTRAN\\Documents\\Python_fundamentals\\Proyecto_final\\{0}_Plot_consumo.jpg'.format(laminador))\n",
    "    writer.save()"
   ]
  },
  {
   "cell_type": "code",
   "execution_count": 7,
   "id": "56a892a4",
   "metadata": {
    "scrolled": false
   },
   "outputs": [
    {
     "name": "stdout",
     "output_type": "stream",
     "text": [
      "El laminador seleccionado es:  RL1 \n",
      "\n",
      "Los productos de este laminador son:  ['CANAL' 'MULTIPLE' 'VIGA S' 'SOLERA' 'ANGULO' 'VIGA R'] \n",
      "\n",
      "Limite inferior de cunsumo en operación:  2.0 MWh\n",
      "Limite superior de cunsumo en operación:  8.5 MWh\n",
      "Potencia contratada:  5.81  MWh\n",
      "\n",
      "Promedio de consumo por tipo de producto(MWh): \n",
      "\n",
      "    RL1_Prod   RL1_Con\n",
      "0    ANGULO  3.286537\n",
      "1     CANAL  3.708911\n",
      "2  MULTIPLE  2.388957\n",
      "3    SOLERA  3.074131\n",
      "4    VIGA R  3.816960\n",
      "5    VIGA S  3.784309\n",
      "\n",
      "Nominación optima por hora y producto laminado (MWh): \n",
      "\n",
      "   CANAL MULTIPLE VIGA S SOLERA ANGULO VIGA R\n",
      "1    4.9      3.9    5.5      4    3.9    4.6\n",
      "2    4.5      3.9      5    3.7    4.4    4.5\n",
      "3    4.7      4.1    5.3    3.2    4.1    4.8\n",
      "4    4.7        4    4.8    3.7      4    4.9\n",
      "5    4.7      3.9    4.6    3.9      4    4.5\n",
      "6    4.4      4.2    5.1    3.5      4    4.6\n",
      "7    4.5      3.9      5    3.7    3.8    4.7\n",
      "8    4.5      3.8    4.7    3.9    3.7    4.8\n",
      "9    4.4      3.9    4.4    3.5    3.8    4.8\n",
      "10   4.3        4    5.2    3.7    3.8    4.4\n",
      "11   4.5      3.7    4.8    3.5      4    4.7\n",
      "12     5      3.8    5.1    3.7      4    4.5\n",
      "13   4.4      3.9    4.6    3.8      4    4.7\n",
      "14   4.9      4.1    4.7    3.8      4    4.7\n",
      "15   4.6      4.1    4.6      4    3.9    5.1\n",
      "16   4.9      4.2    5.2    3.7    3.9    4.7\n",
      "17   4.8        4    4.9    3.8    3.9    4.7\n",
      "18   4.9        4    5.1    3.7    3.9    4.4\n",
      "19   5.1      3.8    5.5    3.7    4.2    4.5\n",
      "20   4.5      3.7    3.9    3.8    3.6    4.5\n",
      "21   4.5      4.1    4.7    3.8    3.5    4.3\n",
      "22   4.9      4.1    4.4    3.8    3.9    4.4\n",
      "23     4      3.9    4.4    4.2    3.9    4.4\n",
      "0    4.9      4.3    4.7    3.9    3.7    4.6\n",
      "\n",
      "MAPE minimo por hora y producto laminado (%): \n",
      "\n",
      "       CANAL  MULTIPLE     VIGA S     SOLERA    ANGULO    VIGA R\n",
      "1   0.204742  0.171526   0.140074   0.120914  0.135659  0.164096\n",
      "2   0.195375  0.168663   0.133251   0.158874  0.135911   0.19206\n",
      "3   0.178173  0.156406   0.155657   0.146007  0.132207  0.172965\n",
      "4   0.173872  0.178554   0.165206   0.112598  0.116156  0.192768\n",
      "5   0.150831  0.145544    0.17027  0.0989006  0.134782  0.186402\n",
      "6   0.183686  0.151024   0.128794   0.141636    0.1194  0.188886\n",
      "7   0.201161  0.143925   0.153693   0.110212  0.128319  0.161569\n",
      "8   0.139869  0.138233   0.147641   0.102394  0.117473  0.155321\n",
      "9    0.15648  0.170362   0.152763   0.101647  0.123962  0.160819\n",
      "10  0.197462  0.136672   0.164957   0.143471  0.128907  0.183165\n",
      "11  0.179897  0.175915   0.146238   0.131595  0.123415  0.166817\n",
      "12  0.207527  0.154346   0.133428   0.122842  0.130594  0.162783\n",
      "13   0.20485  0.139709   0.171592   0.109632  0.113439  0.168239\n",
      "14  0.165417  0.138837   0.161262   0.137871  0.111398  0.168546\n",
      "15   0.16752  0.170527   0.138141   0.116556  0.119878  0.166437\n",
      "16  0.177236  0.160931   0.149497    0.13073  0.132658  0.189452\n",
      "17  0.146193  0.176876   0.140553   0.123328  0.142712  0.172967\n",
      "18  0.164047  0.157101   0.104686   0.141259  0.140723   0.18176\n",
      "19  0.140618  0.173874   0.169365   0.114298  0.132459  0.170105\n",
      "20  0.160975  0.125724   0.159677   0.108903  0.133028  0.184543\n",
      "21  0.153566   0.16711  0.0708535   0.118352  0.116199  0.187571\n",
      "22  0.173669  0.152029   0.198208  0.0770372  0.125862  0.175617\n",
      "23  0.201877  0.174823   0.201137   0.165489  0.143321   0.19392\n",
      "0   0.170652  0.156619   0.167801   0.114104  0.138086  0.183853\n",
      "\n",
      "Grafica del consumo promedio por tipo de producto (MWh): \n",
      "\n",
      " AxesSubplot(0.125,0.125;0.775x0.755)\n"
     ]
    },
    {
     "data": {
      "image/png": "[encoded data removed]",
      "text/plain": [
       "<Figure size 720x720 with 1 Axes>"
      ]
     },
     "metadata": {
      "needs_background": "light"
     },
     "output_type": "display_data"
    }
   ],
   "source": [
    "func_nom(\"RL1\")"
   ]
  },
  {
   "cell_type": "code",
   "execution_count": null,
   "id": "3ac81d87",
   "metadata": {},
   "outputs": [],
   "source": []
  },
  {
   "cell_type": "code",
   "execution_count": null,
   "id": "dd8269ee",
   "metadata": {},
   "outputs": [],
   "source": []
  }
 ],
 "metadata": {
  "kernelspec": {
   "display_name": "Python 3",
   "language": "python",
   "name": "python3"
  },
  "language_info": {
   "codemirror_mode": {
    "name": "ipython",
    "version": 3
   },
   "file_extension": ".py",
   "mimetype": "text/x-python",
   "name": "python",
   "nbconvert_exporter": "python",
   "pygments_lexer": "ipython3",
   "version": "3.6.13"
  }
 },
 "nbformat": 4,
 "nbformat_minor": 5
}
